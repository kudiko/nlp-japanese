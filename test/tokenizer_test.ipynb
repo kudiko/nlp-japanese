{
 "cells": [
  {
   "cell_type": "code",
   "execution_count": 1,
   "id": "266f79f8",
   "metadata": {
    "scrolled": false
   },
   "outputs": [],
   "source": [
    "import neologdn\n",
    "import pandas as pd\n",
    "# neologdn.normalize(\"ﾊﾝｶｸｶﾅ\")\n",
    "\n",
    "song_id = []\n",
    "song_name = []\n",
    "year = []\n",
    "text = []\n",
    "\n",
    "import os, glob\n",
    "for filename in glob.glob('*.txt'):\n",
    "    with open(os.path.join(os.getcwd(), filename), 'r') as f: # open in readonly mode\n",
    "        lines = f.readlines()\n",
    "        if (len(lines) != 3):\n",
    "            continue\n",
    "        song_id.append(int(filename.replace('.txt', '')))\n",
    "        song_name.append(lines[0].rstrip())\n",
    "        year.append(int(lines[1]))\n",
    "        text.append(neologdn.normalize(lines[2]).rstrip())\n",
    "#         data = neologdn.normalize(data)\n",
    "#         print(data)\n",
    "\n",
    "song_id, song_name, year, text = (list(t) for t in zip(*sorted(zip(song_id, song_name, year, text))))\n",
    "\n",
    "# print(song_id)\n",
    "# print(song_name)\n",
    "# print(year)\n",
    "# print(text)\n",
    "\n",
    "db = pd.DataFrame({'song_id' : song_id, 'song_name' : song_name, 'year' : year, 'text' : text})\n"
   ]
  },
  {
   "cell_type": "code",
   "execution_count": 2,
   "id": "a78036d4",
   "metadata": {},
   "outputs": [
    {
     "name": "stdout",
     "output_type": "stream",
     "text": [
      "earlier than 1950: 0\n",
      "1950s: \n",
      "0\n",
      "1960s: \n",
      "0\n",
      "1970s: \n",
      "0\n",
      "1980s: \n",
      "45\n",
      "1990s: \n",
      "518\n",
      "2000s: \n",
      "355\n",
      "2010s: \n",
      "27\n",
      "2020s: \n",
      "0\n"
     ]
    }
   ],
   "source": [
    "print('earlier than 1950: ' + str(len(db[db['year'] < 1950])))\n",
    "db.head()\n",
    "def decade_slice(df):\n",
    "    for decade in range(1950, 2030, 10):\n",
    "        print(str(decade) + 's: ')\n",
    "        print(len(db[(db['year'] >= decade) & (db['year'] < decade + 10)]))\n",
    "#         db[(db['year'] > 2010) & (db['year'] < 2025)]\n",
    "\n",
    "decade_slice(db)"
   ]
  },
  {
   "cell_type": "code",
   "execution_count": 3,
   "id": "1b476911",
   "metadata": {},
   "outputs": [
    {
     "name": "stderr",
     "output_type": "stream",
     "text": [
      "/home/kudiko/anaconda3/lib/python3.9/site-packages/transformers/utils/generic.py:441: UserWarning: torch.utils._pytree._register_pytree_node is deprecated. Please use torch.utils._pytree.register_pytree_node instead.\n",
      "  _torch_pytree._register_pytree_node(\n",
      "/home/kudiko/anaconda3/lib/python3.9/site-packages/transformers/utils/generic.py:309: UserWarning: torch.utils._pytree._register_pytree_node is deprecated. Please use torch.utils._pytree.register_pytree_node instead.\n",
      "  _torch_pytree._register_pytree_node(\n"
     ]
    },
    {
     "name": "stdout",
     "output_type": "stream",
     "text": [
      "[('This', 'PRON'), ('is', 'AUX'), ('a', 'DET'), ('sentence', 'NOUN'), ('.', 'PUNCT')]\n"
     ]
    }
   ],
   "source": [
    "import spacy_transformers\n",
    "import spacy\n",
    "nlp = spacy.load(\"en_core_web_trf\")\n",
    "import en_core_web_trf\n",
    "nlp = en_core_web_trf.load()\n",
    "doc = nlp(\"This is a sentence.\")\n",
    "print([(w.text, w.pos_) for w in doc])\n",
    "# import unidic2ud.spacy\n",
    "# nlp = unidic2ud.spacy.load(\"kindai\", parser=\"ja_core_news_trf\")"
   ]
  },
  {
   "cell_type": "code",
   "execution_count": 4,
   "id": "3945c151",
   "metadata": {},
   "outputs": [
    {
     "name": "stdout",
     "output_type": "stream",
     "text": [
      "[('これ', 'PRON'), ('は', 'ADP'), ('文章', 'NOUN'), ('です', 'AUX'), ('。', 'PUNCT')]\n"
     ]
    }
   ],
   "source": [
    "nlp = spacy.load(\"ja_core_news_trf\")\n",
    "import ja_core_news_trf\n",
    "nlp = ja_core_news_trf.load()\n",
    "doc = nlp(\"これは文章です。\")\n",
    "print([(w.text, w.pos_) for w in doc])"
   ]
  },
  {
   "cell_type": "code",
   "execution_count": null,
   "id": "c44f7a29",
   "metadata": {},
   "outputs": [],
   "source": []
  }
 ],
 "metadata": {
  "kernelspec": {
   "display_name": "Python 3 (ipykernel)",
   "language": "python",
   "name": "python3"
  },
  "language_info": {
   "codemirror_mode": {
    "name": "ipython",
    "version": 3
   },
   "file_extension": ".py",
   "mimetype": "text/x-python",
   "name": "python",
   "nbconvert_exporter": "python",
   "pygments_lexer": "ipython3",
   "version": "3.9.13"
  }
 },
 "nbformat": 4,
 "nbformat_minor": 5
}
