{
 "cells": [
  {
   "cell_type": "code",
   "execution_count": 10,
   "metadata": {},
   "outputs": [
    {
     "data": {
      "text/plain": [
       "<matplotlib.lines.Line2D at 0x7b57e6033df0>"
      ]
     },
     "execution_count": 10,
     "metadata": {},
     "output_type": "execute_result"
    },
    {
     "data": {
      "image/png": "[encoded data removed]",
      "text/plain": [
       "<Figure size 640x480 with 1 Axes>"
      ]
     },
     "metadata": {},
     "output_type": "display_data"
    }
   ],
   "source": [
    "from sklearn.feature_extraction.text import CountVectorizer\n",
    "from collections import defaultdict\n",
    "\n",
    "\n",
    "in_file = open('nlp_out_0.txt', 'r')\n",
    "\n",
    "# def form_dict(jap_tocs):\n",
    "#     freq = defaultdict(int)\n",
    "#     for tok in jap_tocs:\n",
    "#         freq[tok] += 1\n",
    "#     return freq\n",
    "\n",
    "def parse_line(line):\n",
    "    split_line = line.split('|')\n",
    "    line_id = int(split_line[0])\n",
    "    year = int(split_line[1])\n",
    "    jap = split_line[2]\n",
    "    \n",
    "    # freq = form_dict(jap)\n",
    "\n",
    "    return line_id, year, jap\n",
    "\n",
    "ids = []\n",
    "years = []\n",
    "dicts = []\n",
    "\n",
    "for line in in_file:\n",
    "    line_id, year, freq = parse_line(line)\n",
    "    ids.append(line_id)\n",
    "    years.append(year)\n",
    "    dicts.append(freq)\n",
    "\n",
    "vectorizer = CountVectorizer()\n",
    "X = vectorizer.fit_transform(dicts)\n",
    "\n",
    "\n",
    "# X\n",
    "import matplotlib.pyplot as plt\n",
    "plt.spy(X, markersize= 1)\n",
    "\n"
   ]
  },
  {
   "cell_type": "code",
   "execution_count": null,
   "metadata": {},
   "outputs": [],
   "source": []
  }
 ],
 "metadata": {
  "kernelspec": {
   "display_name": "base",
   "language": "python",
   "name": "python3"
  },
  "language_info": {
   "codemirror_mode": {
    "name": "ipython",
    "version": 3
   },
   "file_extension": ".py",
   "mimetype": "text/x-python",
   "name": "python",
   "nbconvert_exporter": "python",
   "pygments_lexer": "ipython3",
   "version": "3.9.13"
  }
 },
 "nbformat": 4,
 "nbformat_minor": 2
}
