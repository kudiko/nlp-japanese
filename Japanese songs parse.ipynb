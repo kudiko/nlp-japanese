{
 "cells": [
  {
   "cell_type": "code",
   "execution_count": 27,
   "id": "ed47fc6a",
   "metadata": {
    "scrolled": true
   },
   "outputs": [
    {
     "name": "stdout",
     "output_type": "stream",
     "text": [
      "ID1 completed.\n",
      "ID2 completed.\n",
      "ID3 completed.\n"
     ]
    },
    {
     "ename": "KeyboardInterrupt",
     "evalue": "",
     "output_type": "error",
     "traceback": [
      "\u001b[0;31m---------------------------------------------------------------------------\u001b[0m",
      "\u001b[0;31mKeyboardInterrupt\u001b[0m                         Traceback (most recent call last)",
      "\u001b[0;32m/tmp/ipykernel_86934/2303051112.py\u001b[0m in \u001b[0;36m<module>\u001b[0;34m\u001b[0m\n\u001b[1;32m     17\u001b[0m \u001b[0;34m\u001b[0m\u001b[0m\n\u001b[1;32m     18\u001b[0m \u001b[0;32mfor\u001b[0m \u001b[0mi\u001b[0m \u001b[0;32min\u001b[0m \u001b[0mrange\u001b[0m\u001b[0;34m(\u001b[0m\u001b[0;36m1\u001b[0m\u001b[0;34m,\u001b[0m \u001b[0;36m353300\u001b[0m\u001b[0;34m)\u001b[0m\u001b[0;34m:\u001b[0m\u001b[0;34m\u001b[0m\u001b[0;34m\u001b[0m\u001b[0m\n\u001b[0;32m---> 19\u001b[0;31m     \u001b[0mtime\u001b[0m\u001b[0;34m.\u001b[0m\u001b[0msleep\u001b[0m\u001b[0;34m(\u001b[0m\u001b[0;36m1\u001b[0m\u001b[0;34m)\u001b[0m\u001b[0;34m\u001b[0m\u001b[0;34m\u001b[0m\u001b[0m\n\u001b[0m\u001b[1;32m     20\u001b[0m     \u001b[0;31m#driver.get('https://www.uta-net.com/song/' + str(i))\u001b[0m\u001b[0;34m\u001b[0m\u001b[0;34m\u001b[0m\u001b[0m\n\u001b[1;32m     21\u001b[0m     \u001b[0mcontent\u001b[0m \u001b[0;34m=\u001b[0m \u001b[0mrequests\u001b[0m\u001b[0;34m.\u001b[0m\u001b[0mget\u001b[0m\u001b[0;34m(\u001b[0m\u001b[0;34m'https://www.uta-net.com/song/'\u001b[0m \u001b[0;34m+\u001b[0m \u001b[0mstr\u001b[0m\u001b[0;34m(\u001b[0m\u001b[0mi\u001b[0m\u001b[0;34m)\u001b[0m\u001b[0;34m)\u001b[0m\u001b[0;34m.\u001b[0m\u001b[0mtext\u001b[0m\u001b[0;34m\u001b[0m\u001b[0;34m\u001b[0m\u001b[0m\n",
      "\u001b[0;31mKeyboardInterrupt\u001b[0m: "
     ]
    }
   ],
   "source": [
    "#from selenium import webdriver\n",
    "from bs4 import BeautifulSoup\n",
    "import time\n",
    "import requests\n",
    "import re\n",
    "#import pandas as pd\n",
    "\n",
    "#firefox_profile = webdriver.FirefoxProfile()\n",
    "#firefox_profile.set_preference(\"browser.download.folderList\",2)\n",
    "#firefox_profile.set_preference(\"javascript.enabled\", False)\n",
    "#driver = webdriver.Chrome(executable_path='/home/kudiko/Downloads/chromedriver')\n",
    "\n",
    "# texts = []\n",
    "# year = []\n",
    "# musician_and_name = []\n",
    "\n",
    "\n",
    "for i in range(1, 353300):\n",
    "    time.sleep(1)\n",
    "    #driver.get('https://www.uta-net.com/song/' + str(i))\n",
    "    content = requests.get('https://www.uta-net.com/song/' + str(i)).text\n",
    "    \n",
    "    out_file = open(str(i) + \".txt\", \"w\")\n",
    "    #content = driver.page_source\n",
    "    soup = BeautifulSoup(content, 'html.parser')\n",
    "    name_unformatted = soup.title.string\n",
    "    name_formatted = name_unformatted.replace('歌詞 - 歌ネット','') \n",
    "    if(name_formatted == 'uta-net.com'):\n",
    "        continue;\n",
    "#     musician_and_name.append(name_formatted)\n",
    "    text_unformatted = soup.find('div', id='kashi_area').get_text()\n",
    "    text_formatted = text_unformatted.replace('\\u3000', '')\n",
    "    \n",
    "    date_text = soup.find('p', class_ =\"ms-2 ms-md-3 detail mb-0\").get_text()\n",
    "#     print(date_text)\n",
    "    p = re.compile(r'([0-9]+)\\/[0-9]+\\/[0-9]+')\n",
    "    m = re.search(p, date_text)\n",
    "    if not m:\n",
    "        continue\n",
    "#         print('Match found: ', m.group(1))\n",
    "#         print('No match')\n",
    "\n",
    "#     texts.append(text_formatted)\n",
    "#     print(str(i) + ' : ' + name_formatted + ' : ' + text_formatted)\n",
    "    \n",
    "    out_file.write(name_formatted)\n",
    "    out_file.write(m.group(1))\n",
    "    out_file.write(text_formatted)\n",
    "#     out_file.write('\\n\\n\\n')\n",
    "    out_file.close()\n",
    "    print('ID' + str(i) + ' completed.')\n",
    "#df = pd.DataFrame({'Musician and name': musician_and_name, 'Text' : texts})\n",
    "#df"
   ]
  },
  {
   "cell_type": "code",
   "execution_count": null,
   "id": "14beded5",
   "metadata": {},
   "outputs": [],
   "source": [
    "#soup.find('p', attrs={'class' : 'ms-2 ms-md-3 detail mb-0'}).get_text()\n",
    "#<div id=\"kashi_area\" itemprop=\"text\">悠久の眠りから覚めた　火山のように<br>胸を突き破り　愛がほとばしる<br>闇に舞うマグマは夜叉か　炎の中で<br>惚れた男なら　奪えとささやく<br>夜更けと夜明けの　狭間で踊る<br>私は人形　あやつり人形<br>運命がもてあそぶ　おんなの心<br>阿修羅に売っても抱かれたい…あなた<br><br>稲妻が駆け抜けた躰　焦がれて燃えて<br>髪の芯までも　熱い血がたぎる<br>雷神よ竜巻呼んで　いとしい人の<br>すべて幸せも　根こそぎ拐って<br>もつれた紅糸　引かれて踊る<br>私は人形　あやつり人形<br>この世のからくりや　掟に背き<br>地獄に堕ちても悔いはない…あなた<br><br>夜更けと夜明けの　狭間で踊る<br>私は人形　あやつり人形<br>運命がもてあそぶ　おんなの心<br>阿修羅に売っても抱かれたい…あなた</div>"
   ]
  },
  {
   "cell_type": "code",
   "execution_count": 25,
   "id": "2629ae77",
   "metadata": {},
   "outputs": [
    {
     "name": "stdout",
     "output_type": "stream",
     "text": [
      "uta-net.com\n"
     ]
    },
    {
     "ename": "AttributeError",
     "evalue": "'NoneType' object has no attribute 'get_text'",
     "output_type": "error",
     "traceback": [
      "\u001b[0;31m---------------------------------------------------------------------------\u001b[0m",
      "\u001b[0;31mAttributeError\u001b[0m                            Traceback (most recent call last)",
      "\u001b[0;32m/tmp/ipykernel_22586/4113017379.py\u001b[0m in \u001b[0;36m<module>\u001b[0;34m\u001b[0m\n\u001b[1;32m      6\u001b[0m \u001b[0mprint\u001b[0m\u001b[0;34m(\u001b[0m\u001b[0mname_formatted\u001b[0m\u001b[0;34m)\u001b[0m\u001b[0;34m\u001b[0m\u001b[0;34m\u001b[0m\u001b[0m\n\u001b[1;32m      7\u001b[0m \u001b[0mmusician_and_name\u001b[0m\u001b[0;34m.\u001b[0m\u001b[0mappend\u001b[0m\u001b[0;34m(\u001b[0m\u001b[0mname_formatted\u001b[0m\u001b[0;34m)\u001b[0m\u001b[0;34m\u001b[0m\u001b[0;34m\u001b[0m\u001b[0m\n\u001b[0;32m----> 8\u001b[0;31m \u001b[0mtext_unformatted\u001b[0m \u001b[0;34m=\u001b[0m \u001b[0msoup\u001b[0m\u001b[0;34m.\u001b[0m\u001b[0mfind\u001b[0m\u001b[0;34m(\u001b[0m\u001b[0;34m'div'\u001b[0m\u001b[0;34m,\u001b[0m \u001b[0mid\u001b[0m\u001b[0;34m=\u001b[0m\u001b[0;34m'kashi_area'\u001b[0m\u001b[0;34m)\u001b[0m\u001b[0;34m.\u001b[0m\u001b[0mget_text\u001b[0m\u001b[0;34m(\u001b[0m\u001b[0;34m)\u001b[0m\u001b[0;34m\u001b[0m\u001b[0;34m\u001b[0m\u001b[0m\n\u001b[0m\u001b[1;32m      9\u001b[0m \u001b[0mtext_formatted\u001b[0m \u001b[0;34m=\u001b[0m \u001b[0mtext_unformatted\u001b[0m\u001b[0;34m.\u001b[0m\u001b[0mreplace\u001b[0m\u001b[0;34m(\u001b[0m\u001b[0;34m'\\u3000'\u001b[0m\u001b[0;34m,\u001b[0m \u001b[0;34m''\u001b[0m\u001b[0;34m)\u001b[0m\u001b[0;34m\u001b[0m\u001b[0;34m\u001b[0m\u001b[0m\n\u001b[1;32m     10\u001b[0m \u001b[0mtexts\u001b[0m\u001b[0;34m.\u001b[0m\u001b[0mappend\u001b[0m\u001b[0;34m(\u001b[0m\u001b[0mtext_formatted\u001b[0m\u001b[0;34m)\u001b[0m\u001b[0;34m\u001b[0m\u001b[0;34m\u001b[0m\u001b[0m\n",
      "\u001b[0;31mAttributeError\u001b[0m: 'NoneType' object has no attribute 'get_text'"
     ]
    }
   ],
   "source": [
    "driver.get('https://www.uta-net.com/song/45')\n",
    "content = driver.page_source\n",
    "soup = BeautifulSoup(content)\n",
    "name_unformatted = soup.title.string\n",
    "name_formatted = name_unformatted.replace('歌詞 - 歌ネット','') \n",
    "if(name_formatted == 'uta-net.com'):\n",
    "    continue;\n",
    "print(name_formatted)\n",
    "musician_and_name.append(name_formatted)\n",
    "text_unformatted = soup.find('div', id='kashi_area').get_text()\n",
    "text_formatted = text_unformatted.replace('\\u3000', '')\n",
    "texts.append(text_formatted)\n",
    "print(str(i) + ' : ' + name_formatted + ' : ' + text_formatted)"
   ]
  },
  {
   "cell_type": "code",
   "execution_count": null,
   "id": "ae3d8279",
   "metadata": {},
   "outputs": [],
   "source": []
  }
 ],
 "metadata": {
  "kernelspec": {
   "display_name": "Python 3 (ipykernel)",
   "language": "python",
   "name": "python3"
  },
  "language_info": {
   "codemirror_mode": {
    "name": "ipython",
    "version": 3
   },
   "file_extension": ".py",
   "mimetype": "text/x-python",
   "name": "python",
   "nbconvert_exporter": "python",
   "pygments_lexer": "ipython3",
   "version": "3.9.13"
  }
 },
 "nbformat": 4,
 "nbformat_minor": 5
}
