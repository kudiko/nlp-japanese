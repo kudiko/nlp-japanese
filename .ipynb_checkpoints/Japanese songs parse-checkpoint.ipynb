{
 "cells": [
  {
   "cell_type": "code",
   "execution_count": null,
   "id": "ed47fc6a",
   "metadata": {
    "scrolled": true
   },
   "outputs": [
    {
     "name": "stdout",
     "output_type": "stream",
     "text": [
      "1 : TUBE あー夏休み  : 湘南で見た葦簾(よしず)の君は誰かれ振り向く切れ込みfeel so Good!夏の少女一度お願いしたいねI love you連発する渚のオオカミboy防波堤腰掛けて灼けば鳴く蝉熱冷めやらぬ二人飛び込む水の音Hold me tight夢とちゃうのかいこんな出逢いは夏の数だけ恋したけどIt's all right抱いたっていいんじゃない焦げた素肌をあー夏休みチョイト泳ぎ疲れ胸に cool baby夜は夜そうね浴衣に花火瞳読み切れないこれじゃ time goes by影が揺れてそっとうなずいたみたい光るルージュ濡れてふるえるよ I've got you砂に埋めた涙忘れてもいいねためらいは蚊帳の外鈴虫も泣くよHold me tightだって恋みたい指がせつない砂の数ほど愛したいけどIt's all right泣いたっていいんじゃない粋な別れにあー夏休みチョイト終わらないでもっとまだまだbabyHold me tight夢とちゃうのかいこんな出逢いは夏の数だけ恋したけどIt's all right抱いたっていいんじゃない焦げた素肌をあー夏休みチョイト泳ぎ疲れ胸に cool babyHold me tightだって恋みたい指がせつない砂の数ほど愛したいけどIt's all right泣いたっていいんじゃない粋な別れにあー夏休みチョイト終わらないでもっとまだまだbaby\n",
      "ID1 completed.\n",
      "2 : 氷室京介 Urban Dance  : シャワーはSWING BEAT誘惑にぬれて素肌をおちる幾つかのフィクション摩天楼 -Just no break downノイズに消されて俺達の愛さえもすれすれのJOKEだね！We should be urban dancin'Let me see your loveときめきの色をぬり変えたベーゼシルクの波にすべり込んだ摩天楼 -Just no break down夜にまぎれて俺達のシュールダンス恋に恋したままでWe should be urban dancin'Let me see your love摩天楼 -Just no break downノイズに消されて俺達の生きざまも気のきいたJOKEだね！We should be urban dancin'Let me see your love\n",
      "ID2 completed.\n",
      "3 : 細川たかし ああ、いい女  : 傘の要らない 恋雨が胸をつきさす 朝の駅手枕ゆえに 乱れた髪は櫛を入れずに とっときますと泣いて微笑った 襟元が少しくずれた くずれた ああいい女惚れて女の 花を知り好いて男の 雪を知る抱かれていても 季節がずれる肌の痛みを お酒にまぜて呑めず こぼしたしみ跡が少しよごれた よごれた ああいい女汽車は別れを 告げたのに愛はこれから 始発駅このままひとり 帰したならば他の男に だまされそうなうしろ姿で 悩ませる少しみだれた みだれた ああいい女\n",
      "ID3 completed.\n",
      "4 : 井沢八郎 ああ上野駅  : どこかに故郷の香をのせて入る列車のなつかしさ上野は俺らの心の駅だくじけちゃならない人生があの日ここから始まった「父ちゃん僕がいなくなったんで母ちゃんの畑仕事も大変だろうな。今度の休みには必ず帰るから、そのときは父ちゃんの肩も母ちゃんの肩も、もういやだっていうまで叩いてやるぞ、それまで元気で待っていてくれよな」就職列車にゆられて着いた遠いあの夜を思い出す上野は俺らの心の駅だ配達帰りの自転車をとめて聞いてる国なまりホームの時計を見つめていたら母の笑顔になってきた上野は俺らの心の駅だお店の仕事は辛いけど胸にゃでっかい夢がある\n",
      "ID4 completed.\n",
      "5 : 近藤真彦 ああ、グッと  : 風かバタバタ鳴っている 街のはずれのちょうちんでおれとお前はまん中にボトルを置いて酒を飲むあぁグッとグッと飲もうぜのんだくれ夢しか知らないろくでなしあぁグッとグッと飲もうぜ夜明けまで夢のラッパを吹き鳴らせ恋は破れて傷になる 人とぶつかり人を知るそんな時代を通り過ぎ男はやさしくなるんだろあぁグッとグッと飲もうぜのんだくれ親の意見も聞かないであぁグッとグッと飲もうぜ生きてきただれに説教のガラじゃないたとえば海が酒ならばお前は魚になるというおれは渚の貝になる波が来るたび酒を飲むあぁグッとグッと飲もうぜのんだくれそれじゃまたなと手を握るがあぁキッとキッと飲もうぜまたここで勝手気ままの旗たててあぁグッとグッと飲もうぜ夜明けまで夢のラッパを吹き鳴らせ\n",
      "ID5 completed.\n",
      "6 : 村田英雄 あゝ万次郎  : 怒涛逆巻く 足摺岬海で育った いごっそう父は亡くとも 泣くもんか負けるもんかの 男の気概土佐は清水の 快男子あゝ中の浜 万次郎流れ流され 南海孤島耐えて忍んだ ど根性着いた港は フェアーヘブンジョンと呼ばれて アメリカ生活越えて七つの 海を行くあゝ中の浜 万次郎目には手ぬぐい 押しあてながら逢えて嬉しと 泣いた母十と一年 十ヶ月苦労かけたと お袋さんに詫びる男の 目に涙あゝ中の浜 万次郎\n",
      "ID6 completed.\n",
      "7 : アン・ルイス あゝ無情  : きれいでしょヒラヒラといい女でしょ見かけより尽くすタイプね優しさに棹さして男はずるいわ逃げてゆく夜が明ける頃涙は塩っぱすぎるし焼きもちは汚い好きにさせてよサングラス外したら吹きだしちゃうほどあどけない目をしてるあいつに弱いの裏切りは直らない手錠をかけても甘え上手にトドメ刺されて街に霧が降るねえ、わたし素敵でしょケバさがいいでしょ悪いけど良くモテてますあの人を捜しても見えない夜更けは思いきりおしゃれに酔うの他の誰かにも貴方同じコトするのね虚しすぎるわくちびるが悲しみにつまづくたんびに強がりが出ちゃうけど本気じゃないのよ貴方しか欲しくない1000年先まで本音をいえば結婚したいまさか愛してるサングラス外したら吹きだしちゃうほどあどけない目をしてるあいつに弱いの裏切りは直らない手錠をかけても甘え上手にトドメ刺されて街に霧が降る\n",
      "ID7 completed.\n",
      "8 : 大川栄策・大杉美栄子 夫婦酒  : さんざ苦労の 三三九度でとんだ茨の 夫婦みちそうよこんなに 痩せたのもみんなあなたのせいなのよエー悪うござんすねエー惚れた弱みの 夫婦酒でおまえと あなたとさしつ さされつ 飲みますか器量気だてに文句はないがかたい財布が 珠に傷ヒモをゆるめりゃ 凧のよにどこへゆくやら わからないエーいやなおんなだねエー俺の最後のおんなと言っておまえと あなたとへらず口でも 飲みますかあの手 この手で 山坂越えてやっと四十路で 陽がさした春がきたって もう遅い娘ざかりを 返してよエー感謝してますよエー惚れてつくして 死ぬまで一緒おまえと あなたとさしつ さされつ 飲みますか\n",
      "ID8 completed.\n",
      "9 : 上田知華 I WILL  : Say 素直に言って私の目を見つめてああ不安な夜にあなたを本当に守れた？抱きしめても何てはかないの愛は哀しく青く消えゆくこのぬくもりこの信じたもの永遠に見えたあの日Say もう一度言って静かに目を閉じたらああ優しく光る春の日君にまた逢いたい抱きよせても何てはかないの愛は哀しく弱く消えゆくこのぬくもりこの手を離れてたそがれの空へ向かうこのぬくもり二度と帰らないたそがれの空へ向かう\n",
      "ID9 completed.\n",
      "10 : TWINZER I Will Wait For You  : 途切れた言葉 探す 横顔のぬぐえない 哀しみはせつない程 遠くあの頃 仲間達と 踊っていた店さえも ビルに押され消えてゆくけどI will wait for you つのる想い 今もひたむきな瞳が いつも 胸を 暖めるから打ち明けてみなよ 涙をふいて逆らうような行き方 選ぶたび変わらない 微笑みに勇気づけられたI will wait for you 君は 孤独じゃないくじけそうな夜にも きっと 朝が 訪れるから気付かなくてもいい愛しているとI will wait for youDon't you cry anymoreOpen your eyesDon't forget your dream,foreverNever need to worry,I'm on your side気付かなくてもいい愛していると\n",
      "ID10 completed.\n",
      "11 : 石川さゆり 合縁坂  : 赤い糸が 見えますか女と男の 針仕事もつれてからんで 切れますか…合縁坂に 眉の月痩せたお前のようだねと 呟く人どうしてどうして どうしてよ男あっての 女です心も身もあなた命 命なにか隠して いませんかやさしすぎます 今夜の あなた合縁坂の コンビニで酒の肴をさがすとき 仕合せですいいのよいいのよ いいんです人は誰でも 綱渡り心も身も あなた命 命春を隠した 冬木立風に吹かれて 待ちます あなた\n",
      "ID11 completed.\n"
     ]
    }
   ],
   "source": [
    "#from selenium import webdriver\n",
    "from bs4 import BeautifulSoup\n",
    "import time\n",
    "import requests\n",
    "#import pandas as pd\n",
    "\n",
    "#firefox_profile = webdriver.FirefoxProfile()\n",
    "#firefox_profile.set_preference(\"browser.download.folderList\",2)\n",
    "#firefox_profile.set_preference(\"javascript.enabled\", False)\n",
    "#driver = webdriver.Chrome(executable_path='/home/kudiko/Downloads/chromedriver')\n",
    "\n",
    "texts = []\n",
    "year = []\n",
    "musician_and_name = []\n",
    "\n",
    "out_file = open(\"japanese_songs.txt\", \"w\")\n",
    "for i in range(1, 101):\n",
    "    time.sleep(1)\n",
    "    #driver.get('https://www.uta-net.com/song/' + str(i))\n",
    "    content = requests.get('https://www.uta-net.com/song/' + str(i)).text\n",
    "    #content = driver.page_source\n",
    "    soup = BeautifulSoup(content, 'html.parser')\n",
    "    name_unformatted = soup.title.string\n",
    "    name_formatted = name_unformatted.replace('歌詞 - 歌ネット','') \n",
    "    if(name_formatted == 'uta-net.com'):\n",
    "        continue;\n",
    "    musician_and_name.append(name_formatted)\n",
    "    text_unformatted = soup.find('div', id='kashi_area').get_text()\n",
    "    text_formatted = text_unformatted.replace('\\u3000', '')\n",
    "    texts.append(text_formatted)\n",
    "    print(str(i) + ' : ' + name_formatted + ' : ' + text_formatted)\n",
    "    print('ID' + str(i) + ' completed.')\n",
    "    out_file.write(str(i) + ' : ' + name_formatted + ' : ' + text_formatted)\n",
    "    out_file.write('\\n\\n\\n')\n",
    "out_file.close()\n",
    "#df = pd.DataFrame({'Musician and name': musician_and_name, 'Text' : texts})\n",
    "#df"
   ]
  },
  {
   "cell_type": "code",
   "execution_count": null,
   "id": "14beded5",
   "metadata": {},
   "outputs": [],
   "source": [
    "#soup.find('p', attrs={'class' : 'ms-2 ms-md-3 detail mb-0'}).get_text()\n",
    "#<div id=\"kashi_area\" itemprop=\"text\">悠久の眠りから覚めた　火山のように<br>胸を突き破り　愛がほとばしる<br>闇に舞うマグマは夜叉か　炎の中で<br>惚れた男なら　奪えとささやく<br>夜更けと夜明けの　狭間で踊る<br>私は人形　あやつり人形<br>運命がもてあそぶ　おんなの心<br>阿修羅に売っても抱かれたい…あなた<br><br>稲妻が駆け抜けた躰　焦がれて燃えて<br>髪の芯までも　熱い血がたぎる<br>雷神よ竜巻呼んで　いとしい人の<br>すべて幸せも　根こそぎ拐って<br>もつれた紅糸　引かれて踊る<br>私は人形　あやつり人形<br>この世のからくりや　掟に背き<br>地獄に堕ちても悔いはない…あなた<br><br>夜更けと夜明けの　狭間で踊る<br>私は人形　あやつり人形<br>運命がもてあそぶ　おんなの心<br>阿修羅に売っても抱かれたい…あなた</div>"
   ]
  },
  {
   "cell_type": "code",
   "execution_count": 25,
   "id": "2629ae77",
   "metadata": {},
   "outputs": [
    {
     "name": "stdout",
     "output_type": "stream",
     "text": [
      "uta-net.com\n"
     ]
    },
    {
     "ename": "AttributeError",
     "evalue": "'NoneType' object has no attribute 'get_text'",
     "output_type": "error",
     "traceback": [
      "\u001b[0;31m---------------------------------------------------------------------------\u001b[0m",
      "\u001b[0;31mAttributeError\u001b[0m                            Traceback (most recent call last)",
      "\u001b[0;32m/tmp/ipykernel_22586/4113017379.py\u001b[0m in \u001b[0;36m<module>\u001b[0;34m\u001b[0m\n\u001b[1;32m      6\u001b[0m \u001b[0mprint\u001b[0m\u001b[0;34m(\u001b[0m\u001b[0mname_formatted\u001b[0m\u001b[0;34m)\u001b[0m\u001b[0;34m\u001b[0m\u001b[0;34m\u001b[0m\u001b[0m\n\u001b[1;32m      7\u001b[0m \u001b[0mmusician_and_name\u001b[0m\u001b[0;34m.\u001b[0m\u001b[0mappend\u001b[0m\u001b[0;34m(\u001b[0m\u001b[0mname_formatted\u001b[0m\u001b[0;34m)\u001b[0m\u001b[0;34m\u001b[0m\u001b[0;34m\u001b[0m\u001b[0m\n\u001b[0;32m----> 8\u001b[0;31m \u001b[0mtext_unformatted\u001b[0m \u001b[0;34m=\u001b[0m \u001b[0msoup\u001b[0m\u001b[0;34m.\u001b[0m\u001b[0mfind\u001b[0m\u001b[0;34m(\u001b[0m\u001b[0;34m'div'\u001b[0m\u001b[0;34m,\u001b[0m \u001b[0mid\u001b[0m\u001b[0;34m=\u001b[0m\u001b[0;34m'kashi_area'\u001b[0m\u001b[0;34m)\u001b[0m\u001b[0;34m.\u001b[0m\u001b[0mget_text\u001b[0m\u001b[0;34m(\u001b[0m\u001b[0;34m)\u001b[0m\u001b[0;34m\u001b[0m\u001b[0;34m\u001b[0m\u001b[0m\n\u001b[0m\u001b[1;32m      9\u001b[0m \u001b[0mtext_formatted\u001b[0m \u001b[0;34m=\u001b[0m \u001b[0mtext_unformatted\u001b[0m\u001b[0;34m.\u001b[0m\u001b[0mreplace\u001b[0m\u001b[0;34m(\u001b[0m\u001b[0;34m'\\u3000'\u001b[0m\u001b[0;34m,\u001b[0m \u001b[0;34m''\u001b[0m\u001b[0;34m)\u001b[0m\u001b[0;34m\u001b[0m\u001b[0;34m\u001b[0m\u001b[0m\n\u001b[1;32m     10\u001b[0m \u001b[0mtexts\u001b[0m\u001b[0;34m.\u001b[0m\u001b[0mappend\u001b[0m\u001b[0;34m(\u001b[0m\u001b[0mtext_formatted\u001b[0m\u001b[0;34m)\u001b[0m\u001b[0;34m\u001b[0m\u001b[0;34m\u001b[0m\u001b[0m\n",
      "\u001b[0;31mAttributeError\u001b[0m: 'NoneType' object has no attribute 'get_text'"
     ]
    }
   ],
   "source": [
    "driver.get('https://www.uta-net.com/song/45')\n",
    "content = driver.page_source\n",
    "soup = BeautifulSoup(content)\n",
    "name_unformatted = soup.title.string\n",
    "name_formatted = name_unformatted.replace('歌詞 - 歌ネット','') \n",
    "if(name_formatted == 'uta-net.com'):\n",
    "    continue;\n",
    "print(name_formatted)\n",
    "musician_and_name.append(name_formatted)\n",
    "text_unformatted = soup.find('div', id='kashi_area').get_text()\n",
    "text_formatted = text_unformatted.replace('\\u3000', '')\n",
    "texts.append(text_formatted)\n",
    "print(str(i) + ' : ' + name_formatted + ' : ' + text_formatted)"
   ]
  },
  {
   "cell_type": "code",
   "execution_count": null,
   "id": "ae3d8279",
   "metadata": {},
   "outputs": [],
   "source": []
  }
 ],
 "metadata": {
  "kernelspec": {
   "display_name": "Python 3 (ipykernel)",
   "language": "python",
   "name": "python3"
  },
  "language_info": {
   "codemirror_mode": {
    "name": "ipython",
    "version": 3
   },
   "file_extension": ".py",
   "mimetype": "text/x-python",
   "name": "python",
   "nbconvert_exporter": "python",
   "pygments_lexer": "ipython3",
   "version": "3.9.13"
  }
 },
 "nbformat": 4,
 "nbformat_minor": 5
}
